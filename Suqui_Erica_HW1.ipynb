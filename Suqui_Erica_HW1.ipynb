{
  "nbformat": 4,
  "nbformat_minor": 0,
  "metadata": {
    "colab": {
      "provenance": [],
      "authorship_tag": "ABX9TyOYO/HmUH4DV72SNUsAIrfa",
      "include_colab_link": true
    },
    "kernelspec": {
      "name": "python3",
      "display_name": "Python 3"
    },
    "language_info": {
      "name": "python"
    }
  },
  "cells": [
    {
      "cell_type": "markdown",
      "metadata": {
        "id": "view-in-github",
        "colab_type": "text"
      },
      "source": [
        "<a href=\"https://colab.research.google.com/github/erica-suqui/Suqui-Erica-HW1/blob/main/Suqui_Erica_HW1.ipynb\" target=\"_parent\"><img src=\"https://colab.research.google.com/assets/colab-badge.svg\" alt=\"Open In Colab\"/></a>"
      ]
    },
    {
      "cell_type": "markdown",
      "source": [
        "#***Fundamental Python:***\n",
        "- Basic Math\n",
        "- Booleans & Variable Assignment\n",
        "- Functions\n",
        "- Strings"
      ],
      "metadata": {
        "id": "270yDwC9g2PC"
      }
    },
    {
      "cell_type": "code",
      "execution_count": null,
      "metadata": {
        "colab": {
          "base_uri": "https://localhost:8080/"
        },
        "id": "TAqZeg3tguSZ",
        "outputId": "8198a6e8-1a83-433e-f2f6-eecb7cc9cbcb"
      },
      "outputs": [
        {
          "output_type": "stream",
          "name": "stdout",
          "text": [
            "Sum:  15\n",
            "Difference:  5\n",
            "Product:  50\n",
            "Division:  2.0\n"
          ]
        }
      ],
      "source": [
        "#Basic arithmetic operations\n",
        "\n",
        "a=10\n",
        "b=5\n",
        "sum= a+b\n",
        "differene = a-b\n",
        "product = a*b\n",
        "division = a/b\n",
        "\n",
        "print(\"Sum: \", sum)\n",
        "print(\"Difference: \", differene)\n",
        "print(\"Product: \", product)\n",
        "print(\"Division: \",division)"
      ]
    },
    {
      "cell_type": "code",
      "source": [
        "print(f\"The sum of the two numbers {a},{b} is {sum}\")"
      ],
      "metadata": {
        "colab": {
          "base_uri": "https://localhost:8080/"
        },
        "id": "IqNl-wQXhoZR",
        "outputId": "a2fb955d-aefd-46e1-dd5e-47874932c301"
      },
      "execution_count": null,
      "outputs": [
        {
          "output_type": "stream",
          "name": "stdout",
          "text": [
            "The sum of the two numbers 10,5 is 15\n"
          ]
        }
      ]
    },
    {
      "cell_type": "code",
      "source": [
        "x =13//2\n",
        "print(x)\n",
        "y=13%2\n",
        "print(y)"
      ],
      "metadata": {
        "colab": {
          "base_uri": "https://localhost:8080/"
        },
        "id": "b-tjvjdZhvG6",
        "outputId": "0374d01c-51ff-488c-a069-bb84a077ea9c"
      },
      "execution_count": null,
      "outputs": [
        {
          "output_type": "stream",
          "name": "stdout",
          "text": [
            "6\n",
            "1\n"
          ]
        }
      ]
    },
    {
      "cell_type": "code",
      "source": [
        "#Boolean variables and comparisons\n",
        "x = 10\n",
        "y=5\n",
        "\n",
        "is_greater = x>y\n",
        "is_equal= x==y\n",
        "is_not_equal = x!=y\n",
        "\n",
        "print(\"Is x greater than y?\", is_greater)\n",
        "print(\"Is x equal to y?\", is_equal)\n",
        "print(\"Is x not equal to y?\", is_not_equal)\n",
        "\n",
        "\n",
        "\n"
      ],
      "metadata": {
        "colab": {
          "base_uri": "https://localhost:8080/"
        },
        "id": "f33In7CmhzeA",
        "outputId": "edd59a80-8cd9-415d-ab0d-dff37f319de1"
      },
      "execution_count": null,
      "outputs": [
        {
          "output_type": "stream",
          "name": "stdout",
          "text": [
            "Is x greater than y? True\n",
            "Is x equal to y? False\n",
            "Is x not equal to y? True\n"
          ]
        }
      ]
    },
    {
      "cell_type": "code",
      "source": [
        "name = \"Alaa\"\n",
        "age = 55\n",
        "is_profesor = True\n",
        "\n",
        "\n",
        "print(f\"{name}'s age is {age}. He is a Professor {is_profesor}\")\n"
      ],
      "metadata": {
        "colab": {
          "base_uri": "https://localhost:8080/"
        },
        "id": "JfPZXwaslLxv",
        "outputId": "f81947e0-9139-4a2a-d42e-f48c94849516"
      },
      "execution_count": null,
      "outputs": [
        {
          "output_type": "stream",
          "name": "stdout",
          "text": [
            "Alaa's age is 55. He is a Professor True\n"
          ]
        }
      ]
    },
    {
      "cell_type": "code",
      "source": [
        "#Defining and using a function\n",
        "\n",
        "def greet(name):\n",
        "  return \"Hello,\"+ name + \"!\"\n",
        "\n",
        "\n",
        "my_name = input(\"Enter your name: \")\n",
        "greet(my_name)\n",
        "\n"
      ],
      "metadata": {
        "colab": {
          "base_uri": "https://localhost:8080/",
          "height": 52
        },
        "id": "_ypL0SOzliv1",
        "outputId": "c9f46793-f2f9-4f16-f924-ec11f8fe6151"
      },
      "execution_count": null,
      "outputs": [
        {
          "name": "stdout",
          "output_type": "stream",
          "text": [
            "Enter your name: Erica\n"
          ]
        },
        {
          "output_type": "execute_result",
          "data": {
            "text/plain": [
              "'Hello,Erica!'"
            ],
            "application/vnd.google.colaboratory.intrinsic+json": {
              "type": "string"
            }
          },
          "metadata": {},
          "execution_count": 18
        }
      ]
    },
    {
      "cell_type": "code",
      "source": [
        "def add_numbers(a,b):\n",
        "  return a+b\n",
        "\n",
        "a = int(input(\"Enter first number:\"))\n",
        "b = int(input(\"Enter second number:\"))\n",
        "\n",
        "addition_value = add_numbers(a,b)\n",
        "print(f\"The result of addition for {a},{b} is {addition_value}\")"
      ],
      "metadata": {
        "colab": {
          "base_uri": "https://localhost:8080/"
        },
        "id": "HaLI-Sp3mKaQ",
        "outputId": "b1e4f12a-e450-445d-b408-90c055fbb3ff"
      },
      "execution_count": null,
      "outputs": [
        {
          "output_type": "stream",
          "name": "stdout",
          "text": [
            "Enter first number:2\n",
            "Enter second number:3\n",
            "The result of addition for 2,3 is 23\n"
          ]
        }
      ]
    },
    {
      "cell_type": "code",
      "source": [
        "def add_numbers(a,b):\n",
        "  return a+b\n",
        "\n",
        "a = eval(input(\"Enter first number:\"))\n",
        "b = eval(input(\"Enter second number:\"))\n",
        "\n",
        "addition_value = add_numbers(a,b)\n",
        "print(f\"The result of addition for {a},{b} is {addition_value}\")"
      ],
      "metadata": {
        "colab": {
          "base_uri": "https://localhost:8080/"
        },
        "id": "yW5l0Ns6sEq0",
        "outputId": "b3758deb-bea1-4424-d22d-8c6e2f6729ca"
      },
      "execution_count": null,
      "outputs": [
        {
          "output_type": "stream",
          "name": "stdout",
          "text": [
            "Enter first number:4.5\n",
            "Enter second number:7\n",
            "The result of addition for 4.5,7 is 11.5\n"
          ]
        }
      ]
    },
    {
      "cell_type": "code",
      "source": [
        "#Working with strins\n",
        "message = \"Hello, World\"\n",
        "length = len(message)\n",
        "uppercase = message.upper()\n",
        "lowercase = message.lower()\n",
        "substring = message[7:12]\n",
        "\n",
        "print(\"Original mesage: \",message)\n",
        "print (\"The Length is \",length)\n",
        "print(\"Uppercase: \",uppercase)\n",
        "print(\"Lowercase: \",lowercase)\n",
        "print(\"Part of the message: \",substring)\n",
        "\n"
      ],
      "metadata": {
        "colab": {
          "base_uri": "https://localhost:8080/"
        },
        "id": "jLb8GVhesnRV",
        "outputId": "ded71156-2407-4d8b-86f3-7a52bde21700"
      },
      "execution_count": null,
      "outputs": [
        {
          "output_type": "stream",
          "name": "stdout",
          "text": [
            "Original mesage:  Hello, World\n",
            "The Length is  12\n",
            "Uppercase:  HELLO, WORLD\n",
            "Lowercase:  hello, world\n",
            "Part of the message:  World\n"
          ]
        }
      ]
    },
    {
      "cell_type": "code",
      "source": [
        "#Basic input example\n",
        "Last = input (\"Enter the last name: \")\n",
        "First = input(\"Enter the first name: \")\n",
        "print(f\"{Last},{First}\")"
      ],
      "metadata": {
        "colab": {
          "base_uri": "https://localhost:8080/"
        },
        "id": "kGqiJOTnuuWM",
        "outputId": "508cee0e-c9b7-4322-da46-70d8426620f9"
      },
      "execution_count": null,
      "outputs": [
        {
          "output_type": "stream",
          "name": "stdout",
          "text": [
            "Enter the last name: Suqui\n",
            "Enter the first name: Erica\n",
            "Suqui,Erica\n"
          ]
        }
      ]
    },
    {
      "cell_type": "code",
      "source": [
        "#Numeric input example\n",
        "age = int(input(\"Enter your age: \"))\n",
        "print(\"You will be\",age +1, \"years old next year.\")"
      ],
      "metadata": {
        "colab": {
          "base_uri": "https://localhost:8080/"
        },
        "id": "pCQFfcTavENI",
        "outputId": "9c86bc66-5db2-4e11-f098-71427f6ce816"
      },
      "execution_count": null,
      "outputs": [
        {
          "output_type": "stream",
          "name": "stdout",
          "text": [
            "Enter your age: 21\n",
            "You will be 22 years old next year.\n"
          ]
        }
      ]
    },
    {
      "cell_type": "code",
      "source": [
        "#Calculations with input\n",
        "\n",
        "num1 = float(input(\"Enter the first number: \"))\n",
        "num2 = float(input(\"Enter the another number:\"))\n",
        "sum_result = num1 + num2\n",
        "print(\"Sum:\",sum_result)"
      ],
      "metadata": {
        "colab": {
          "base_uri": "https://localhost:8080/"
        },
        "id": "sZNLpxP2vWe4",
        "outputId": "a265fa70-f6ea-4b81-d999-ee14c7081dfb"
      },
      "execution_count": null,
      "outputs": [
        {
          "output_type": "stream",
          "name": "stdout",
          "text": [
            "Enter the first number: 12\n",
            "Enter the another number:14\n",
            "Sum: 26.0\n"
          ]
        }
      ]
    },
    {
      "cell_type": "code",
      "source": [
        "#String concatenation with input\n",
        "city = input(\"Enter your city:\")\n",
        "country = input(\"Enter your aountry: \")\n",
        "location = city +\",\"+country\n",
        "print(\"You are in: \" ,location)"
      ],
      "metadata": {
        "colab": {
          "base_uri": "https://localhost:8080/"
        },
        "id": "qf7A_kTCvwef",
        "outputId": "c290f0c1-5ca5-4393-dece-511acee98564"
      },
      "execution_count": null,
      "outputs": [
        {
          "output_type": "stream",
          "name": "stdout",
          "text": [
            "Enter your city:New Haven\n",
            "Enter your aountry: USA\n",
            "You are in:  New Haven,USA\n"
          ]
        }
      ]
    },
    {
      "cell_type": "code",
      "source": [
        "#Multiple inputs\n",
        "name,age = input(\"Enter your name and age: \").split()\n",
        "print(f\"My name is {name} and my age is {age}\")\n"
      ],
      "metadata": {
        "colab": {
          "base_uri": "https://localhost:8080/"
        },
        "id": "Z3IK3J5MwQoE",
        "outputId": "4ba9bc8d-b1f8-4524-c4a5-fbda64ee8ce5"
      },
      "execution_count": null,
      "outputs": [
        {
          "output_type": "stream",
          "name": "stdout",
          "text": [
            "Enter your name and age: Erica 21\n",
            "My name is Erica and my age is 21\n"
          ]
        }
      ]
    }
  ]
}